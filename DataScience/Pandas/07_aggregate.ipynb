{
 "cells": [
  {
   "cell_type": "code",
   "execution_count": 1,
   "id": "a5470285-5ded-4017-a1ea-a93adc7ca37d",
   "metadata": {},
   "outputs": [],
   "source": [
    "import pandas as pd"
   ]
  },
  {
   "cell_type": "code",
   "execution_count": 3,
   "id": "df9bcb9e-be2f-437d-8a0d-ef43128dfcd6",
   "metadata": {},
   "outputs": [
    {
     "data": {
      "text/html": [
       "<div>\n",
       "<style scoped>\n",
       "    .dataframe tbody tr th:only-of-type {\n",
       "        vertical-align: middle;\n",
       "    }\n",
       "\n",
       "    .dataframe tbody tr th {\n",
       "        vertical-align: top;\n",
       "    }\n",
       "\n",
       "    .dataframe thead th {\n",
       "        text-align: right;\n",
       "    }\n",
       "</style>\n",
       "<table border=\"1\" class=\"dataframe\">\n",
       "  <thead>\n",
       "    <tr style=\"text-align: right;\">\n",
       "      <th></th>\n",
       "      <th>Undergraduate Major</th>\n",
       "      <th>Starting Median Salary</th>\n",
       "      <th>Mid-Career Median Salary</th>\n",
       "      <th>Mid-Career 10th Percentile Salary</th>\n",
       "      <th>Mid-Career 90th Percentile Salary</th>\n",
       "      <th>Group</th>\n",
       "    </tr>\n",
       "  </thead>\n",
       "  <tbody>\n",
       "    <tr>\n",
       "      <th>0</th>\n",
       "      <td>Accounting</td>\n",
       "      <td>46000.0</td>\n",
       "      <td>77100.0</td>\n",
       "      <td>42200.0</td>\n",
       "      <td>152000.0</td>\n",
       "      <td>Business</td>\n",
       "    </tr>\n",
       "    <tr>\n",
       "      <th>1</th>\n",
       "      <td>Aerospace Engineering</td>\n",
       "      <td>57700.0</td>\n",
       "      <td>101000.0</td>\n",
       "      <td>64300.0</td>\n",
       "      <td>161000.0</td>\n",
       "      <td>STEM</td>\n",
       "    </tr>\n",
       "    <tr>\n",
       "      <th>2</th>\n",
       "      <td>Agriculture</td>\n",
       "      <td>42600.0</td>\n",
       "      <td>71900.0</td>\n",
       "      <td>36300.0</td>\n",
       "      <td>150000.0</td>\n",
       "      <td>Business</td>\n",
       "    </tr>\n",
       "    <tr>\n",
       "      <th>3</th>\n",
       "      <td>Anthropology</td>\n",
       "      <td>36800.0</td>\n",
       "      <td>61500.0</td>\n",
       "      <td>33800.0</td>\n",
       "      <td>138000.0</td>\n",
       "      <td>HASS</td>\n",
       "    </tr>\n",
       "    <tr>\n",
       "      <th>4</th>\n",
       "      <td>Architecture</td>\n",
       "      <td>41600.0</td>\n",
       "      <td>76800.0</td>\n",
       "      <td>50600.0</td>\n",
       "      <td>136000.0</td>\n",
       "      <td>Business</td>\n",
       "    </tr>\n",
       "  </tbody>\n",
       "</table>\n",
       "</div>"
      ],
      "text/plain": [
       "     Undergraduate Major  Starting Median Salary  Mid-Career Median Salary  \\\n",
       "0             Accounting                 46000.0                   77100.0   \n",
       "1  Aerospace Engineering                 57700.0                  101000.0   \n",
       "2            Agriculture                 42600.0                   71900.0   \n",
       "3           Anthropology                 36800.0                   61500.0   \n",
       "4           Architecture                 41600.0                   76800.0   \n",
       "\n",
       "   Mid-Career 10th Percentile Salary  Mid-Career 90th Percentile Salary  \\\n",
       "0                            42200.0                           152000.0   \n",
       "1                            64300.0                           161000.0   \n",
       "2                            36300.0                           150000.0   \n",
       "3                            33800.0                           138000.0   \n",
       "4                            50600.0                           136000.0   \n",
       "\n",
       "      Group  \n",
       "0  Business  \n",
       "1      STEM  \n",
       "2  Business  \n",
       "3      HASS  \n",
       "4  Business  "
      ]
     },
     "execution_count": 3,
     "metadata": {},
     "output_type": "execute_result"
    }
   ],
   "source": [
    "df1 = pd.read_csv('salaries_by_college_major.csv')\n",
    "clear_df = df1.dropna()\n",
    "clear_df.head(5)"
   ]
  },
  {
   "cell_type": "code",
   "execution_count": 5,
   "id": "823a1463-3382-415b-9b42-8eb3091e0a49",
   "metadata": {},
   "outputs": [
    {
     "data": {
      "text/html": [
       "<div>\n",
       "<style scoped>\n",
       "    .dataframe tbody tr th:only-of-type {\n",
       "        vertical-align: middle;\n",
       "    }\n",
       "\n",
       "    .dataframe tbody tr th {\n",
       "        vertical-align: top;\n",
       "    }\n",
       "\n",
       "    .dataframe thead th {\n",
       "        text-align: right;\n",
       "    }\n",
       "</style>\n",
       "<table border=\"1\" class=\"dataframe\">\n",
       "  <thead>\n",
       "    <tr style=\"text-align: right;\">\n",
       "      <th></th>\n",
       "      <th>Starting Median Salary</th>\n",
       "      <th>Mid-Career Median Salary</th>\n",
       "      <th>Mid-Career 10th Percentile Salary</th>\n",
       "      <th>Mid-Career 90th Percentile Salary</th>\n",
       "    </tr>\n",
       "  </thead>\n",
       "  <tbody>\n",
       "    <tr>\n",
       "      <th>count</th>\n",
       "      <td>50.000000</td>\n",
       "      <td>50.00000</td>\n",
       "      <td>50.000000</td>\n",
       "      <td>50.000000</td>\n",
       "    </tr>\n",
       "    <tr>\n",
       "      <th>mean</th>\n",
       "      <td>44310.000000</td>\n",
       "      <td>74786.00000</td>\n",
       "      <td>43408.000000</td>\n",
       "      <td>142766.000000</td>\n",
       "    </tr>\n",
       "    <tr>\n",
       "      <th>std</th>\n",
       "      <td>9360.866217</td>\n",
       "      <td>16088.40386</td>\n",
       "      <td>12000.779567</td>\n",
       "      <td>27851.249267</td>\n",
       "    </tr>\n",
       "    <tr>\n",
       "      <th>min</th>\n",
       "      <td>34000.000000</td>\n",
       "      <td>52000.00000</td>\n",
       "      <td>26700.000000</td>\n",
       "      <td>96400.000000</td>\n",
       "    </tr>\n",
       "    <tr>\n",
       "      <th>25%</th>\n",
       "      <td>37050.000000</td>\n",
       "      <td>60825.00000</td>\n",
       "      <td>34825.000000</td>\n",
       "      <td>124250.000000</td>\n",
       "    </tr>\n",
       "    <tr>\n",
       "      <th>50%</th>\n",
       "      <td>40850.000000</td>\n",
       "      <td>72000.00000</td>\n",
       "      <td>39400.000000</td>\n",
       "      <td>145500.000000</td>\n",
       "    </tr>\n",
       "    <tr>\n",
       "      <th>75%</th>\n",
       "      <td>49875.000000</td>\n",
       "      <td>88750.00000</td>\n",
       "      <td>49850.000000</td>\n",
       "      <td>161750.000000</td>\n",
       "    </tr>\n",
       "    <tr>\n",
       "      <th>max</th>\n",
       "      <td>74300.000000</td>\n",
       "      <td>107000.00000</td>\n",
       "      <td>71900.000000</td>\n",
       "      <td>210000.000000</td>\n",
       "    </tr>\n",
       "  </tbody>\n",
       "</table>\n",
       "</div>"
      ],
      "text/plain": [
       "       Starting Median Salary  Mid-Career Median Salary  \\\n",
       "count               50.000000                  50.00000   \n",
       "mean             44310.000000               74786.00000   \n",
       "std               9360.866217               16088.40386   \n",
       "min              34000.000000               52000.00000   \n",
       "25%              37050.000000               60825.00000   \n",
       "50%              40850.000000               72000.00000   \n",
       "75%              49875.000000               88750.00000   \n",
       "max              74300.000000              107000.00000   \n",
       "\n",
       "       Mid-Career 10th Percentile Salary  Mid-Career 90th Percentile Salary  \n",
       "count                          50.000000                          50.000000  \n",
       "mean                        43408.000000                      142766.000000  \n",
       "std                         12000.779567                       27851.249267  \n",
       "min                         26700.000000                       96400.000000  \n",
       "25%                         34825.000000                      124250.000000  \n",
       "50%                         39400.000000                      145500.000000  \n",
       "75%                         49850.000000                      161750.000000  \n",
       "max                         71900.000000                      210000.000000  "
      ]
     },
     "execution_count": 5,
     "metadata": {},
     "output_type": "execute_result"
    }
   ],
   "source": [
    "clear_df.describe()"
   ]
  },
  {
   "cell_type": "code",
   "execution_count": 7,
   "id": "397adb05-dec2-4bfa-a4c9-beab5664461d",
   "metadata": {},
   "outputs": [
    {
     "data": {
      "text/plain": [
       "44310.0"
      ]
     },
     "execution_count": 7,
     "metadata": {},
     "output_type": "execute_result"
    }
   ],
   "source": [
    "clear_df['Starting Median Salary'].mean()"
   ]
  },
  {
   "cell_type": "code",
   "execution_count": 9,
   "id": "3b448cfc-ac23-40a7-a7c5-eb96f9c8d389",
   "metadata": {},
   "outputs": [
    {
     "data": {
      "text/plain": [
       "40850.0"
      ]
     },
     "execution_count": 9,
     "metadata": {},
     "output_type": "execute_result"
    }
   ],
   "source": [
    "clear_df['Starting Median Salary'].median()"
   ]
  },
  {
   "cell_type": "code",
   "execution_count": 11,
   "id": "df056ff4-2931-43d9-9dc0-a71f6368bae6",
   "metadata": {},
   "outputs": [
    {
     "data": {
      "text/plain": [
       "0    35900.0\n",
       "Name: Starting Median Salary, dtype: float64"
      ]
     },
     "execution_count": 11,
     "metadata": {},
     "output_type": "execute_result"
    }
   ],
   "source": [
    "clear_df['Starting Median Salary'].mode()"
   ]
  },
  {
   "cell_type": "code",
   "execution_count": 17,
   "id": "c2fbbcee-982a-4cfb-b89b-0de2781f38ae",
   "metadata": {},
   "outputs": [
    {
     "data": {
      "text/plain": [
       "Starting Median Salary\n",
       "35900.0    3\n",
       "42600.0    2\n",
       "57700.0    2\n",
       "Name: count, dtype: int64"
      ]
     },
     "execution_count": 17,
     "metadata": {},
     "output_type": "execute_result"
    }
   ],
   "source": [
    "clear_df['Starting Median Salary'].value_counts().head(3)"
   ]
  },
  {
   "cell_type": "code",
   "execution_count": 19,
   "id": "bc72d821-ba4f-4dee-9f02-7f328a6e7cec",
   "metadata": {},
   "outputs": [
    {
     "data": {
      "text/plain": [
       "Starting Median Salary\n",
       "35900.0    0.06\n",
       "42600.0    0.04\n",
       "57700.0    0.04\n",
       "Name: proportion, dtype: float64"
      ]
     },
     "execution_count": 19,
     "metadata": {},
     "output_type": "execute_result"
    }
   ],
   "source": [
    "# If we want to get count in percentage, then add attribute normalize=True\n",
    "clear_df['Starting Median Salary'].value_counts(normalize=True).head(3)"
   ]
  },
  {
   "cell_type": "code",
   "execution_count": null,
   "id": "50558b8d-7928-4775-a549-e8c87be28451",
   "metadata": {},
   "outputs": [],
   "source": []
  }
 ],
 "metadata": {
  "kernelspec": {
   "display_name": "Python 3 (ipykernel)",
   "language": "python",
   "name": "python3"
  },
  "language_info": {
   "codemirror_mode": {
    "name": "ipython",
    "version": 3
   },
   "file_extension": ".py",
   "mimetype": "text/x-python",
   "name": "python",
   "nbconvert_exporter": "python",
   "pygments_lexer": "ipython3",
   "version": "3.12.7"
  }
 },
 "nbformat": 4,
 "nbformat_minor": 5
}
